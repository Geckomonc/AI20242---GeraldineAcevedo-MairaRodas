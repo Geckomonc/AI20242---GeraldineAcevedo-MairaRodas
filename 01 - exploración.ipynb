{
  "nbformat": 4,
  "nbformat_minor": 0,
  "metadata": {
    "colab": {
      "private_outputs": true,
      "provenance": [],
      "authorship_tag": "ABX9TyPRgcBU/sI+/b3vE7/p+Fvi",
      "include_colab_link": true
    },
    "kernelspec": {
      "name": "python3",
      "display_name": "Python 3"
    },
    "language_info": {
      "name": "python"
    }
  },
  "cells": [
    {
      "cell_type": "markdown",
      "metadata": {
        "id": "view-in-github",
        "colab_type": "text"
      },
      "source": [
        "<a href=\"https://colab.research.google.com/github/Geckomonc/AI20242---GeraldineAcevedo-MairaRodas/blob/main/01%20-%20exploraci%C3%B3n.ipynb\" target=\"_parent\"><img src=\"https://colab.research.google.com/assets/colab-badge.svg\" alt=\"Open In Colab\"/></a>"
      ]
    },
    {
      "cell_type": "markdown",
      "source": [
        "#Proyecto Kaggle"
      ],
      "metadata": {
        "id": "ZCYoS-8LKwXo"
      }
    },
    {
      "cell_type": "code",
      "execution_count": null,
      "metadata": {
        "id": "b6oefQ2Ap-EL"
      },
      "outputs": [],
      "source": [
        "!wget --no-cache -O init.py -q https://raw.githubusercontent.com/rramosp/ai4eng.v1/main/content/init.py\n",
        "import init; init.init(force_download=False); init.get_weblink()"
      ]
    },
    {
      "cell_type": "markdown",
      "source": [
        "#Descargando la data de Kaggle"
      ],
      "metadata": {
        "id": "fSOiXbQELniI"
      }
    },
    {
      "cell_type": "code",
      "source": [
        "import os\n",
        "os.environ['KAGGLE_CONFIG_DIR'] = '.'\n",
        "!chmod 600 ./kaggle.json\n",
        "!kaggle competitions download -c udea-ai4eng-20242"
      ],
      "metadata": {
        "id": "HJ8jqq-FqPUB"
      },
      "execution_count": null,
      "outputs": []
    },
    {
      "cell_type": "markdown",
      "source": [
        "#Unzip and inspect data"
      ],
      "metadata": {
        "id": "9-RSaUmALsWF"
      }
    },
    {
      "cell_type": "code",
      "source": [
        "!unzip udea*.zip > /dev/null"
      ],
      "metadata": {
        "id": "CPeTIMarL0BO"
      },
      "execution_count": null,
      "outputs": []
    },
    {
      "cell_type": "code",
      "source": [
        "!wc *.csv"
      ],
      "metadata": {
        "id": "z5KsBcO5L3hj"
      },
      "execution_count": null,
      "outputs": []
    },
    {
      "cell_type": "markdown",
      "source": [
        "#Cargar datos de entrenamiento con panda"
      ],
      "metadata": {
        "id": "JtBDmgbmL-w-"
      }
    },
    {
      "cell_type": "code",
      "source": [
        "import pandas as pd\n",
        "import numpy as np\n",
        "\n",
        "data = pd.read_csv(\"train.csv\")\n",
        "print (\"shape of loaded dataframe\", data.shape)\n"
      ],
      "metadata": {
        "id": "9bitCKLB74cC"
      },
      "execution_count": null,
      "outputs": []
    },
    {
      "cell_type": "code",
      "source": [
        "data.head()"
      ],
      "metadata": {
        "id": "E6nOt3lxMHbA"
      },
      "execution_count": null,
      "outputs": []
    },
    {
      "cell_type": "markdown",
      "source": [
        "#Exploración de los datos"
      ],
      "metadata": {
        "id": "ILAFpQT-MQIC"
      }
    },
    {
      "cell_type": "markdown",
      "source": [
        "Vamos a visualizar todas las columnas como gráficas con el fin de comprender mejor los datos y ver la cantidad de estudiantes por valor."
      ],
      "metadata": {
        "id": "vxm49WT_Mt_s"
      }
    },
    {
      "cell_type": "code",
      "source": [
        "data.PERIODO.value_counts().plot(kind='bar')"
      ],
      "metadata": {
        "id": "pbajewiNMT2i"
      },
      "execution_count": null,
      "outputs": []
    },
    {
      "cell_type": "markdown",
      "source": [
        "Nos hemos dado cuenta que se debe realizar una nueva organización de valores de la columna de programas académicos porque se tienen mucho valores únicos."
      ],
      "metadata": {
        "id": "BiqQov1MNQug"
      }
    },
    {
      "cell_type": "code",
      "source": [
        "data[\"ESTU_PRGM_ACADEMICO\"].unique()"
      ],
      "metadata": {
        "id": "enmTdCFIM_P-"
      },
      "execution_count": null,
      "outputs": []
    },
    {
      "cell_type": "code",
      "source": [
        "data.ESTU_PRGM_ACADEMICO.value_counts().plot(kind='bar')"
      ],
      "metadata": {
        "id": "hyttsMAgNDqw"
      },
      "execution_count": null,
      "outputs": []
    },
    {
      "cell_type": "code",
      "source": [
        "data.ESTU_PRGM_DEPARTAMENTO.value_counts().plot(kind='bar')"
      ],
      "metadata": {
        "id": "kQJwnzsXNPJ2"
      },
      "execution_count": null,
      "outputs": []
    },
    {
      "cell_type": "code",
      "source": [
        "data.ESTU_VALORMATRICULAUNIVERSIDAD.value_counts().plot(kind='bar')"
      ],
      "metadata": {
        "id": "w2AZVKidNqZ8"
      },
      "execution_count": null,
      "outputs": []
    },
    {
      "cell_type": "code",
      "source": [
        "data.ESTU_HORASSEMANATRABAJA.value_counts().plot(kind='bar')"
      ],
      "metadata": {
        "id": "Y81gjiBJNq5e"
      },
      "execution_count": null,
      "outputs": []
    },
    {
      "cell_type": "code",
      "source": [
        "data.FAMI_ESTRATOVIVIENDA.value_counts().plot(kind='bar')"
      ],
      "metadata": {
        "id": "rtzkRTe9Ntyj"
      },
      "execution_count": null,
      "outputs": []
    },
    {
      "cell_type": "code",
      "source": [
        "data.FAMI_TIENEINTERNET.value_counts().plot(kind='bar')"
      ],
      "metadata": {
        "id": "f8954vm8NwDR"
      },
      "execution_count": null,
      "outputs": []
    },
    {
      "cell_type": "code",
      "source": [
        "data.FAMI_EDUCACIONPADRE.value_counts().plot(kind='bar')"
      ],
      "metadata": {
        "id": "ybW_930CNyo8"
      },
      "execution_count": null,
      "outputs": []
    },
    {
      "cell_type": "code",
      "source": [
        "data.FAMI_EDUCACIONMADRE.value_counts().plot(kind='bar')"
      ],
      "metadata": {
        "id": "DJss6B-4N0XD"
      },
      "execution_count": null,
      "outputs": []
    },
    {
      "cell_type": "code",
      "source": [
        "data.ESTU_PAGOMATRICULAPROPIO.value_counts().plot(kind='bar')"
      ],
      "metadata": {
        "id": "teorEeFAN2is"
      },
      "execution_count": null,
      "outputs": []
    },
    {
      "cell_type": "markdown",
      "source": [
        "#Visualización de las influencias"
      ],
      "metadata": {
        "id": "uex8iLpeOJW-"
      }
    },
    {
      "cell_type": "markdown",
      "source": [
        "Ahora queremos ver como se relaciona el rendimiento global de los estudiantes con los valores únicos de cada columna, e intentar visualizar a primera vista si existe algún tipo de influencia sobre el rendimiento global."
      ],
      "metadata": {
        "id": "d30r8SzbPx0A"
      }
    },
    {
      "cell_type": "code",
      "source": [
        "from rlxutils import subplots\n",
        "import matplotlib.pyplot as plt\n",
        "\n",
        "column = data.PERIODO\n",
        "\n",
        "c = sorted(column.value_counts().index)\n",
        "for ax,ci in subplots(c, n_cols=4, usizex=4):\n",
        "    zc = data[column==ci]\n",
        "    zc.RENDIMIENTO_GLOBAL.value_counts()[['bajo', 'medio-bajo', 'medio-alto', 'alto']].plot(kind='bar')\n",
        "    plt.title(ci)"
      ],
      "metadata": {
        "id": "a29kAG2HN4xN"
      },
      "execution_count": null,
      "outputs": []
    },
    {
      "cell_type": "code",
      "source": [
        "column = data.ESTU_PRGM_DEPARTAMENTO\n",
        "\n",
        "c = sorted(column.value_counts().index)\n",
        "for ax,ci in subplots(c, n_cols=4, usizex=4):\n",
        "    zc = data[column==ci]\n",
        "    counts = zc.RENDIMIENTO_GLOBAL.value_counts().reindex(['bajo', 'medio-bajo', 'medio-alto', 'alto'], fill_value=0)\n",
        "    counts.plot(kind='bar', ax=ax)\n",
        "    ax.set_title(ci)\n",
        "plt.tight_layout()\n",
        "plt.show()"
      ],
      "metadata": {
        "id": "vfQxpcigObqu"
      },
      "execution_count": null,
      "outputs": []
    },
    {
      "cell_type": "code",
      "source": [
        "column = data.ESTU_VALORMATRICULAUNIVERSIDAD\n",
        "\n",
        "c = sorted(column.value_counts().index)\n",
        "for ax,ci in subplots(c, n_cols=4, usizex=4):\n",
        "    zc = data[column==ci]\n",
        "    zc.RENDIMIENTO_GLOBAL.value_counts()[['bajo', 'medio-bajo', 'medio-alto', 'alto']].plot(kind='bar')\n",
        "    plt.title(ci)"
      ],
      "metadata": {
        "id": "ivhqSN1oRMqC"
      },
      "execution_count": null,
      "outputs": []
    },
    {
      "cell_type": "code",
      "source": [
        "column = data.ESTU_HORASSEMANATRABAJA\n",
        "\n",
        "c = sorted(column.value_counts().index)\n",
        "for ax,ci in subplots(c, n_cols=4, usizex=4):\n",
        "    zc = data[column==ci]\n",
        "    zc.RENDIMIENTO_GLOBAL.value_counts()[['bajo', 'medio-bajo', 'medio-alto', 'alto']].plot(kind='bar')\n",
        "    plt.title(ci)"
      ],
      "metadata": {
        "id": "IcPLdTXmOsbK"
      },
      "execution_count": null,
      "outputs": []
    },
    {
      "cell_type": "code",
      "source": [
        "column = data.FAMI_ESTRATOVIVIENDA\n",
        "\n",
        "c = sorted(column.value_counts().index)\n",
        "for ax,ci in subplots(c, n_cols=4, usizex=4):\n",
        "    zc = data[column==ci]\n",
        "    zc.RENDIMIENTO_GLOBAL.value_counts()[['bajo', 'medio-bajo', 'medio-alto', 'alto']].plot(kind='bar')\n",
        "    plt.title(ci)"
      ],
      "metadata": {
        "id": "8ddWFzqIOwue"
      },
      "execution_count": null,
      "outputs": []
    },
    {
      "cell_type": "code",
      "source": [
        "column = data.FAMI_TIENEINTERNET\n",
        "\n",
        "c = sorted(column.value_counts().index)\n",
        "for ax,ci in subplots(c, n_cols=4, usizex=4):\n",
        "    zc = data[column==ci]\n",
        "    zc.RENDIMIENTO_GLOBAL.value_counts()[['bajo', 'medio-bajo', 'medio-alto', 'alto']].plot(kind='bar')\n",
        "    plt.title(ci)"
      ],
      "metadata": {
        "id": "zDxfmCh_O1Nu"
      },
      "execution_count": null,
      "outputs": []
    },
    {
      "cell_type": "code",
      "source": [
        "column = data.FAMI_EDUCACIONPADRE\n",
        "\n",
        "c = sorted(column.value_counts().index)\n",
        "for ax,ci in subplots(c, n_cols=4, usizex=4):\n",
        "    zc = data[column==ci]\n",
        "    zc.RENDIMIENTO_GLOBAL.value_counts()[['bajo', 'medio-bajo', 'medio-alto', 'alto']].plot(kind='bar')\n",
        "    plt.title(ci)"
      ],
      "metadata": {
        "id": "bzIukirJPABq"
      },
      "execution_count": null,
      "outputs": []
    },
    {
      "cell_type": "code",
      "source": [
        "column = data.FAMI_EDUCACIONMADRE\n",
        "\n",
        "c = sorted(column.value_counts().index)\n",
        "for ax,ci in subplots(c, n_cols=4, usizex=4):\n",
        "    zc = data[column==ci]\n",
        "    zc.RENDIMIENTO_GLOBAL.value_counts()[['bajo', 'medio-bajo', 'medio-alto', 'alto']].plot(kind='bar')\n",
        "    plt.title(ci)"
      ],
      "metadata": {
        "id": "Wy1yfhiePGks"
      },
      "execution_count": null,
      "outputs": []
    },
    {
      "cell_type": "code",
      "source": [
        "column = data.ESTU_PAGOMATRICULAPROPIO\n",
        "\n",
        "c = sorted(column.value_counts().index)\n",
        "for ax,ci in subplots(c, n_cols=4, usizex=4):\n",
        "    zc = data[column==ci]\n",
        "    zc.RENDIMIENTO_GLOBAL.value_counts()[['bajo', 'medio-bajo', 'medio-alto', 'alto']].plot(kind='bar')\n",
        "    plt.title(ci)"
      ],
      "metadata": {
        "id": "GKIEfu7KPLd8"
      },
      "execution_count": null,
      "outputs": []
    }
  ]
}